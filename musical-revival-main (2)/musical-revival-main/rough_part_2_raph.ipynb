{
 "cells": [
  {
   "cell_type": "markdown",
   "id": "0e50da02",
   "metadata": {},
   "source": [
    "## Has Latin music become more popular on Spotify in the the last five years?"
   ]
  },
  {
   "cell_type": "code",
   "execution_count": null,
   "id": "8c7db978",
   "metadata": {},
   "outputs": [],
   "source": []
  },
  {
   "cell_type": "code",
   "execution_count": 1,
   "id": "319c7f9f",
   "metadata": {},
   "outputs": [],
   "source": [
    "import requests\n",
    "import spotipy\n",
    "from spotipy.oauth2 import SpotifyClientCredentials\n",
    "import pandas as pd"
   ]
  },
  {
   "cell_type": "code",
   "execution_count": 2,
   "id": "b9322469",
   "metadata": {},
   "outputs": [],
   "source": [
    "cid = 'accc4df73a694fabbce2979c05a8bf40'\n",
    "secret = 'dbc8258de4a34382b6e51e2c99d30527'\n",
    "spotify = spotipy.Spotify(client_credentials_manager=SpotifyClientCredentials(client_id=cid, client_secret=secret))"
   ]
  },
  {
   "cell_type": "code",
   "execution_count": null,
   "id": "916d0b74",
   "metadata": {},
   "outputs": [],
   "source": [
    "top_2021_url = 'https://open.spotify.com/playlist/37i9dQZF1DX18jTM2l2fJY?si=8b783d32e1b94960'\n",
    "top_2020_url = 'https://open.spotify.com/playlist/37i9dQZF1DX7Jl5KP2eZaS?si=0faff1f0fc9d4ee2'\n",
    "top_2019_url = 'https://open.spotify.com/playlist/37i9dQZF1DWVRSukIED0e9?si=381011c3547342de'\n",
    "top_2018_url = 'https://open.spotify.com/playlist/37i9dQZF1DXe2bobNYDtW8?si=9048770b740f4e3b'\n",
    "top_2017_url = 'https://open.spotify.com/playlist/37i9dQZF1DWTE7dVUebpUW?si=c495c49a26b246a7'\n",
    "last_5_urls = [top_2021_url, top_2020_url, top_2019_url, top_2018_url, top_2017_url]\n",
    "\n",
    "latin_genres = ['reggaeton', 'trap latino','puerto rican pop','colombian pop',\n",
    "                'latin hip hop','reggaeton flow','reggaeton colombiano','latin pop', 'pop argentino']\n",
    "afro_genres = ['African Percussion', 'African Rock', 'Arikaans', 'Afrobeat', 'Afrobeats']\n",
    "euro_genres = ['Classic Eurovision', 'Deep Euro House', 'Deep Eurodance','Eurobeat','Eurodance','Europop','Eurovision','French Hip Hop']\n",
    "asia_genres = ['K-hop','K-indie','K-pop','Indian Pop','Indian Rock','Deep Indian Pop','C-pop','Chinese Indie Rock']\n",
    "\n",
    "\n",
    "\n",
    "lNames = []\n",
    "lInv_genre = []\n",
    "lPop = []\n",
    "lYears = []\n",
    "lSongs = []\n",
    "\n",
    "counter = 0\n",
    "year = 2021\n",
    "\n",
    "for url in last_5_urls:\n",
    "    results = spotify.playlist(url)\n",
    "    for item in results['tracks']['items']:\n",
    "        if (counter < 50):\n",
    "            counter += 1\n",
    "            for artist in item['track']['artists']:\n",
    "                artist_uri = artist['uri']\n",
    "                artist_data = spotify.artist(artist_uri)\n",
    "                helper = [genre for genre in artist_data['genres'] if genre in latin_genres]\n",
    "                if (len(helper) > 0):\n",
    "                    lNames.append(artist_data['name'])\n",
    "                    lInv_genre.append(helper[0])\n",
    "                    lPop.append(artist_data['popularity'])\n",
    "                    lYears.append(year)\n",
    "                    lSongs.append(item['track']['name'])\n",
    "    counter = 0\n",
    "    year -= 1\n",
    "    \n",
    "    \n",
    "afNames = []\n",
    "afInv_genre = []\n",
    "afPop = []\n",
    "afYears = []\n",
    "afSongs = []\n",
    "\n",
    "counter = 0\n",
    "year = 2021\n",
    "\n",
    "for url in last_5_urls:\n",
    "    results = spotify.playlist(url)\n",
    "    for item in results['tracks']['items']:\n",
    "        if (counter < 50):\n",
    "            counter += 1\n",
    "            for artist in item['track']['artists']:\n",
    "                artist_uri = artist['uri']\n",
    "                artist_data = spotify.artist(artist_uri)\n",
    "                helper = [genre for genre in artist_data['genres'] if genre in afro_genres]\n",
    "                if (len(helper) > 0):\n",
    "                    afNames.append(artist_data['name'])\n",
    "                    afInv_genre.append(helper[0])\n",
    "                    afPop.append(artist_data['popularity'])\n",
    "                    afYears.append(year)\n",
    "                    afSongs.append(item['track']['name'])\n",
    "    counter = 0\n",
    "    year -= 1\n",
    "\n",
    "eNames = []\n",
    "eInv_genre = []\n",
    "ePop = []\n",
    "eYears = []\n",
    "eSongs = []\n",
    "\n",
    "counter = 0\n",
    "year = 2021\n",
    "\n",
    "for url in last_5_urls:\n",
    "    results = spotify.playlist(url)\n",
    "    for item in results['tracks']['items']:\n",
    "        if (counter < 50):\n",
    "            counter += 1\n",
    "            for artist in item['track']['artists']:\n",
    "                artist_uri = artist['uri']\n",
    "                artist_data = spotify.artist(artist_uri)\n",
    "                helper = [genre for genre in artist_data['genres'] if genre in euro_genres]\n",
    "                if (len(helper) > 0):\n",
    "                    eNames.append(artist_data['name'])\n",
    "                    eInv_genre.append(helper[0])\n",
    "                    ePop.append(artist_data['popularity'])\n",
    "                    eYears.append(year)\n",
    "                    eSongs.append(item['track']['name'])\n",
    "    counter = 0\n",
    "    year -= 1\n",
    "    \n",
    "asNames = []\n",
    "asInv_genre = []\n",
    "asPop = []\n",
    "asYears = []\n",
    "asSongs = []\n",
    "\n",
    "counter = 0\n",
    "year = 2021\n",
    "\n",
    "for url in last_5_urls:\n",
    "    results = spotify.playlist(url)\n",
    "    for item in results['tracks']['items']:\n",
    "        if (counter < 50):\n",
    "            counter += 1\n",
    "            for artist in item['track']['artists']:\n",
    "                artist_uri = artist['uri']\n",
    "                artist_data = spotify.artist(artist_uri)\n",
    "                helper = [genre for genre in artist_data['genres'] if genre in asia_genres]\n",
    "                if (len(helper) > 0):\n",
    "                    asNames.append(artist_data['name'])\n",
    "                    asnv_genre.append(helper[0])\n",
    "                    asPop.append(artist_data['popularity'])\n",
    "                    asYears.append(year)\n",
    "                    asSongs.append(item['track']['name'])\n",
    "    counter = 0\n",
    "    year -= 1    \n",
    " \n",
    "\n",
    "\n",
    "        \n",
    "\n"
   ]
  },
  {
   "cell_type": "code",
   "execution_count": null,
   "id": "6256bce9",
   "metadata": {},
   "outputs": [],
   "source": [
    "latin_df = pd.DataFrame({'Artist Name': lNames, 'Track': lSongs,'Main Genre': lInv_genre, \n",
    "                         'Popularity': lPop, 'Year in Top 50': lYears})\n",
    "afro_df = pd.DataFrame({'Artist Name': afNames, 'Track': afSongs,'Main Genre': afInv_genre, \n",
    "                         'Popularity': afPop, 'Year in Top 50': afYears})\n",
    "euro_df = pd.DataFrame({'Artist Name': eNames, 'Track': eSongs,'Main Genre': eInv_genre, \n",
    "                         'Popularity': ePop, 'Year in Top 50': eYears})\n",
    "asia_df = pd.DataFrame({'Artist Name': asNames, 'Track': asSongs,'Main Genre': asInv_genre, \n",
    "                         'Popularity': asPop, 'Year in Top 50': asYears})\n"
   ]
  },
  {
   "cell_type": "code",
   "execution_count": null,
   "id": "6fc82624",
   "metadata": {},
   "outputs": [],
   "source": [
    "new_df = latin_df.groupby(['Track', 'Year in Top 50']).size().reset_index()\n",
    "new_df = new_df.drop(columns=['Track']).groupby('Year in Top 50').size().reset_index()\n",
    "new_df = new_df.rename(columns={0:\"Number of Latin Songs\", 'Year in Top 50': 'Top 50 Tracks of the Year' }).set_index('Top 50 Tracks of the Year')\n"
   ]
  },
  {
   "cell_type": "code",
   "execution_count": null,
   "id": "10dc8af2",
   "metadata": {},
   "outputs": [],
   "source": [
    "new_df.plot.bar(figsize=(10,8))"
   ]
  },
  {
   "cell_type": "code",
   "execution_count": null,
   "id": "e58ad090",
   "metadata": {},
   "outputs": [],
   "source": []
  },
  {
   "cell_type": "code",
   "execution_count": null,
   "id": "a2c457c2",
   "metadata": {},
   "outputs": [],
   "source": []
  },
  {
   "cell_type": "markdown",
   "id": "fdb91fa9",
   "metadata": {},
   "source": [
    "## Have songs from Stranger Things become more popular after each season?"
   ]
  },
  {
   "cell_type": "code",
   "execution_count": null,
   "id": "cad073ad",
   "metadata": {},
   "outputs": [],
   "source": [
    "import requests\n",
    "import spotipy\n",
    "from spotipy.oauth2 import SpotifyClientCredentials\n",
    "import pandas as pd"
   ]
  },
  {
   "cell_type": "code",
   "execution_count": null,
   "id": "4f54375f",
   "metadata": {},
   "outputs": [],
   "source": [
    "cid = 'accc4df73a694fabbce2979c05a8bf40'\n",
    "secret = 'dbc8258de4a34382b6e51e2c99d30527'\n",
    "spotify = spotipy.Spotify(client_credentials_manager=SpotifyClientCredentials(client_id=cid, client_secret=secret))"
   ]
  },
  {
   "cell_type": "code",
   "execution_count": null,
   "id": "91d0fa69",
   "metadata": {},
   "outputs": [],
   "source": []
  },
  {
   "cell_type": "code",
   "execution_count": null,
   "id": "780e34a3",
   "metadata": {},
   "outputs": [],
   "source": [
    "url = 'https://open.spotify.com/playlist/37i9dQZF1DXc3KPAjGyPdm?si=49bedacdc17046e8'\n",
    "res = spotify.playlist(url)\n",
    "# print(res.extend())\n",
    "res_id = res['id']\n",
    "results = spotify.user_playlist_tracks('spotify', res_id)\n",
    "tracks = results['items']\n",
    "while results['next']:\n",
    "    results = spotify.next(results)\n",
    "    tracks.extend(results['items'])"
   ]
  },
  {
   "cell_type": "code",
   "execution_count": null,
   "id": "9a0ad934",
   "metadata": {},
   "outputs": [],
   "source": [
    "# print(tracks[-1]['track'])\n",
    "print(tracks[-1]['added_at'])"
   ]
  },
  {
   "cell_type": "code",
   "execution_count": null,
   "id": "7445a67c",
   "metadata": {},
   "outputs": [],
   "source": [
    "stra_names = []\n",
    "popular = []\n",
    "dates = []\n",
    "\n",
    "for track in tracks:\n",
    "    stra_names.append(track['track']['name'])\n",
    "    popular.append(track['track']['popularity'])\n",
    "    dates.append(track['added_at'])\n",
    "print(len(stra_names))\n",
    "print(len(popular))\n",
    "print(len(dates))\n",
    "\n",
    "dates = [date[:4] for date in dates]"
   ]
  },
  {
   "cell_type": "code",
   "execution_count": null,
   "id": "17e478d3",
   "metadata": {},
   "outputs": [],
   "source": [
    "stranger_df = pd.DataFrame({'Track':stra_names, 'Popularity':popular, 'Year Added': dates})\n",
    "stranger_df = stranger_df.groupby(['Year Added', 'Track']).size().reset_index()\n",
    "stranger_df"
   ]
  },
  {
   "cell_type": "code",
   "execution_count": null,
   "id": "990d28dc",
   "metadata": {},
   "outputs": [],
   "source": []
  }
 ],
 "metadata": {
  "kernelspec": {
   "display_name": "Python 3 (ipykernel)",
   "language": "python",
   "name": "python3"
  },
  "language_info": {
   "codemirror_mode": {
    "name": "ipython",
    "version": 3
   },
   "file_extension": ".py",
   "mimetype": "text/x-python",
   "name": "python",
   "nbconvert_exporter": "python",
   "pygments_lexer": "ipython3",
   "version": "3.8.5"
  }
 },
 "nbformat": 4,
 "nbformat_minor": 5
}
