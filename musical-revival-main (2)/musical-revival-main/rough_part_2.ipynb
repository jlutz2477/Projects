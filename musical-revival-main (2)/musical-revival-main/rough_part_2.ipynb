{
 "cells": [
  {
   "cell_type": "markdown",
   "id": "07eee938",
   "metadata": {},
   "source": [
    "# Music Diversity Over the years"
   ]
  },
  {
   "cell_type": "markdown",
   "id": "07eee938",
   "metadata": {},
   "source": [
    "## Team: Data Tots"
   ]
  },
  {
   "cell_type": "markdown",
   "id": "07eee938",
   "metadata": {},
   "source": [
    "# Credits:\n",
    "### - Hannah Ark - Report Write-Up, data collection, brainstorming/planning\n",
    "### - Caleb Huck - Report Write-Up, data collection, brainstorming/planning\n",
    "### - John Lutz - Brainstorming/planning, data collection, visualization\n",
    "### - Raphael Esedebe - Brainstorming/planning, data collection, visualization\n",
    "### - Nazar Taxitiemuer - created GitHub\n",
    "# Major changes:\n",
    "The team decided that it would be best to change our research topic from Part 1 to one that focuses on answering questions about the globalization of music. We made this decision because we felt that our initial topic was not clear and did not have as much of a real world application as our new one. Our new research topic aims to visualize the rise of music from different areas of the world in Spotify's top hits playlists from 2008 to 2021.\n"
   ]
  },
  {
   "cell_type": "markdown",
   "id": "07eee938",
   "metadata": {},
   "source": [
    "# Question\n",
    "There is no doubt that over the years, music's top hits have become more diversified. Songs by artists from all over the world have entered the mainstream music world; we no longer exclusively listen to music from Northern America (or more generally, the West). The purpose of our research is to visualize the popularity of music from different continents in the Top Hits playlists created by Spotify from the years 2008 to 2021. We chose to analyze Spotify because it's considered the top music streaming service\n\n",

    "To start, we collected Top Hits playlists made by Spotify for the specified years. We chose to use playlists by Spotify specifically because we felt that the data used to create those playlists were more reliable than if we were to use personal playlists by Spotify users. Each playlist is a collection of songs that had top streaming numbers for that year. We also defined continents as categories to analyze different parts of the world. One continent that is not included in this analysis is Antarctica, as it is not highly populated and therefore does not have sufficient music data to include in the research. We also did not include North America yet, as it is hard to pin down genres that include exclusively American music. In order to categorize songs, we had to first organize genres into categories based on regions that they're from. For example, K-Pop would be categorized under the continent of Asia. We then identified artists in the playlists, checked to see what genre they fell under (which in turn gave us what continent they fell under), and then plotted each continent on a graph for visualization.\n\n",

    "Although this topic focuses on the broad idea of the spread of music from different cultures, we also can expand our research to see how different types of music compare to each other as well. We can delve into other questions such as During which years did music from Asia gain popularity? or What continent produced the most hits in the past five years? and related topics.\n"
   ]
  },
  {
   "cell_type": "markdown",
   "id": "0e50da02",
   "metadata": {},
   "source": [
    "#Analysis"
   ]
  },
  {
   "cell_type": "code",
   "execution_count": null,
   "id": "8c7db978",
   "metadata": {},
   "outputs": [],
   "source": []
  },
  {
   "cell_type": "code",
   "execution_count": 1,
   "id": "319c7f9f",
   "metadata": {},
   "outputs": [],
   "source": [
    "import requests\n",
    "import spotipy\n",
    "from spotipy.oauth2 import SpotifyClientCredentials\n",
    "import pandas as pd"
   ]
  },
  {
   "cell_type": "code",
   "execution_count": 2,
   "id": "b9322469",
   "metadata": {},
   "outputs": [],
   "source": [
    "cid = 'accc4df73a694fabbce2979c05a8bf40'\n",
    "secret = 'dbc8258de4a34382b6e51e2c99d30527'\n",
    "spotify = spotipy.Spotify(client_credentials_manager=SpotifyClientCredentials(client_id=cid, client_secret=secret))"
   ]
  },
  {
   "cell_type": "code",
   "execution_count": 3,
   "id": "916d0b74",
   "metadata": {},
   "outputs": [
    {
     "name": "stdout",
     "output_type": "stream",
     "text": [
      "41\n",
      "41\n",
      "41\n",
      "41\n"
     ]
    }
   ],
   "source": [
    "top_2021_url = 'https://open.spotify.com/playlist/37i9dQZF1DX18jTM2l2fJY?si=8b783d32e1b94960'\n",
    "top_2020_url = 'https://open.spotify.com/playlist/37i9dQZF1DX7Jl5KP2eZaS?si=0faff1f0fc9d4ee2'\n",
    "top_2019_url = 'https://open.spotify.com/playlist/37i9dQZF1DWVRSukIED0e9?si=381011c3547342de'\n",
    "top_2018_url = 'https://open.spotify.com/playlist/37i9dQZF1DXe2bobNYDtW8?si=9048770b740f4e3b'\n",
    "top_2017_url = 'https://open.spotify.com/playlist/37i9dQZF1DWTE7dVUebpUW?si=c495c49a26b246a7'\n",
    "last_5_urls = [top_2021_url, top_2020_url, top_2019_url, top_2018_url, top_2017_url]\n",
    "\n",
    "latin_genres = ['reggaeton', 'trap latino','puerto rican pop','colombian pop',\n",
    "                'latin hip hop','reggaeton flow','reggaeton colombiano','latin pop', 'pop argentino']\n",
    "\n",
    "names = []\n",
    "inv_genre = []\n",
    "pop = []\n",
    "years = []\n",
    "songs = []\n",
    "\n",
    "counter = 0\n",
    "year = 2021\n",
    "\n",
    "# Going through all urls \n",
    "for url in last_5_urls:\n",
    "\n",
    "    # using spotify private web scraper\n",
    "    results = spotify.playlist(url)\n",
    "\n",
    "    # iterating through each song\n",
    "    for item in results['tracks']['items']:\n",
    "\n",
    "        # finding the top 50 songs of each year\n",
    "        if (counter < 50):\n",
    "            counter += 1\n",
    "\n",
    "            # iterating through the artist(s) on each song\n",
    "            for artist in item['track']['artists']:\n",
    "\n",
    "                # finding data on the artist using spotify web scraper\n",
    "                artist_uri = artist['uri']\n",
    "                artist_data = spotify.artist(artist_uri)\n",
    "\n",
    "                # finding the genre of the artist\n",
    "                helper = [genre for genre in artist_data['genres'] if genre in latin_genres]\n",
    "                if (len(helper) > 0):\n",
    "\n",
    "                    # appending to data frame\n",
    "                    names.append(artist_data['name'])\n",
    "                    inv_genre.append(helper[0])\n",
    "                    pop.append(artist_data['popularity'])\n",
    "                    years.append(year)\n",
    "                    songs.append(item['track']['name'])\n",
    "    counter = 0\n",
    "    year -= 1\n",
    "        \n",
    "# These lengths should all be the same\n",
    "print(len(names))\n",
    "print(len(inv_genre))\n",
    "print(len(pop))\n",
    "print(len(years))\n"
   ]
  },
  {
   "cell_type": "code",
   "execution_count": 4,
   "id": "6256bce9",
   "metadata": {},
   "outputs": [],
   "source": [
    "latin_df = pd.DataFrame({'Artist Name': names, 'Track': songs,'Main Genre': inv_genre, \n",
    "                         'Popularity': pop, 'Year in Top 50': years})\n",
    "#latin_df"
   ]
  },
  {
   "cell_type": "code",
   "execution_count": 5,
   "id": "6fc82624",
   "metadata": {},
   "outputs": [],
   "source": [
    "new_df = latin_df.groupby(['Track', 'Year in Top 50']).size().reset_index()\n",
    "new_df = new_df.drop(columns=['Track']).groupby('Year in Top 50').size().reset_index()\n",
    "new_df = new_df.rename(columns={0:\"Number of Latin Songs\", 'Year in Top 50': 'Top 50 Tracks of the Year' }).set_index('Top 50 Tracks of the Year')\n",
    "#new_df"
   ]
  },
  {
   "cell_type": "code",
   "execution_count": 6,
   "id": "10dc8af2",
   "metadata": {},
   "outputs": [
    {
     "data": {
      "text/plain": [
       "<AxesSubplot:xlabel='Top 50 Tracks of the Year'>"
      ]
     },
     "execution_count": 6,
     "metadata": {},
     "output_type": "execute_result"
    },
    {
     "data": {
      "image/png": "[encoded data removed]",
      "text/plain": [
       "<Figure size 720x576 with 1 Axes>"
      ]
     },
     "metadata": {
      "needs_background": "light"
     },
     "output_type": "display_data"
    }
   ],
   "source": [
    "new_df.plot.bar(figsize=(10,8))"
   ]
  },
  {
   "cell_type": "code",
   "execution_count": null,
   "id": "e58ad090",
   "metadata": {},
   "outputs": [],
   "source": []
  },
  {
   "cell_type": "code",
   "execution_count": null,
   "id": "a2c457c2",
   "metadata": {},
   "outputs": [],
   "source": []
  },
  {
   "cell_type": "markdown",
   "id": "07eee938",
   "metadata": {},
   "source": [
    "# Conclusion:\n",
    "Because of the rise in popularity of Latin music (as we saw in the visualization), we can infer that the other music categories also exhibit an increase in streaming numbers as time progresses. Unfortunately, we were unable to create a full visualization, as the source of our data was rate limiting us and we were unable to run our program after a certain amount of times. Before the next iteration of this project, we hope to find either a different way to approach this issue using the same source, or finding a completely new source of data. This decision will be made after consultation with a TA or the professor. When all data is successfully organized, we hope to solidify the concept of music globalization over time.\n",
    "## Some uncertainties faced in this research include: \n",
    "- We are unsure if all genres of music are available for a given country/geographic area.\n",
    "- We do not know what may have caused any noticeable spikes and/or dips of a music type during a certain time.\n",
    "## Some limitations for this research are: \n",
    "- When searching through genres to pin down a song's category, we only look at genres that are listed in Spotify. We do not have access to any genres that may exist in the region that are not considered in Spotify.\n",
    "- Not all regions being analyzed have the same genres available.\n",
    "- We cannot account for any biases created from marketing strategies that may focus on making certain genres more popular than others.\n",
    "## Biases:\n",
    "- We must recognize that Spotify content is most likely highly tailored to American audiences.\n",
    "- Genres in Spotify that are more general (Pop, Hip-Hop, etc.) are assumed to be American (Northern America), even though it could include songs from different continents.\n",
    "## Caveats:\n",
    "- Since it is hard to pin down what genres are considered in the Northern American category, we are only able to look at data outside of the region.\n",
    "- Successful years for music industry in America may overshadow the rising interest of music from other regions.\n",
     "## New problems:\n",
    "- Do trends of rise in a base genre also trickle down into a rise of regional variants of that genre? I.e. would the rise of Rock music also show a similar rise of German rock or African rock?\n"
   ]
  },
  {
   "cell_type": "code",
   "execution_count": null,
   "id": "990d28dc",
   "metadata": {},
   "outputs": [],
   "source": []
  }
 ],
 "metadata": {
  "kernelspec": {
   "display_name": "Python 3 (ipykernel)",
   "language": "python",
   "name": "python3"
  },
  "language_info": {
   "codemirror_mode": {
    "name": "ipython",
    "version": 3
   },
   "file_extension": ".py",
   "mimetype": "text/x-python",
   "name": "python",
   "nbconvert_exporter": "python",
   "pygments_lexer": "ipython3",
   "version": "3.8.8"
  }
 },
 "nbformat": 4,
 "nbformat_minor": 5
}
