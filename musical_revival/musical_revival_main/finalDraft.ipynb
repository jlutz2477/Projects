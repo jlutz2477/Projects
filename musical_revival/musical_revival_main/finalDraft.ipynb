{
 "cells": [
  {
   "cell_type": "markdown",
   "id": "8a549ea2",
   "metadata": {},
   "source": [
    "# Music Diversity Over the years\n",
    "\n",
    "## Team: Data Tots\n",
    "\n",
    "# Credits:\n",
    "### - Hannah Ark - Report Write-Up, data collection, brainstorming/planning, some visualization\n",
    "### - Caleb Huck - Report Write-Up, data collection, brainstorming/planning, \n",
    "### - John Lutz - Brainstorming/planning, data collection, main visualization\n",
    "### - Raphael Esedebe - Brainstorming/planning, data collection, main visualization\n",
    "### - Nazar Taxitiemuer - created GitHub\n",
    "# Changes:\n",
    "The team decided that it would be best to change our research topic from Part 1 to one that focuses on answering questions about the globalization of music. We made this decision because we felt that our initial topic was not clear and did not have as much of a real world application as our new one. Our new research topic aims to visualize the rise of music from different areas of the world in Spotify's top hits playlists from 2008 to 2021. Not many changes were made for Part 3. We are adding a few more visualizations in order to support our research better.\n",
    "\n",
    "# Question\n",
    "There is no doubt that over the years, music's top hits have become more diversified. Songs by artists from all over the world have entered the mainstream music world; we no longer exclusively listen to music from Northern America (or more generally, the West). The purpose of our research is to visualize the popularity of music from different continents in the Top Hits playlists created by Spotify from the years 2017 to 2021. We chose to analyze Spotify because it's considered the top music streaming service\n",
    "\n",
    "To start, we collected Top Hits playlists made by Spotify for the specified years. We chose to use playlists by Spotify specifically because we felt that the data used to create those playlists were more reliable than if we were to use personal playlists by Spotify users. Each playlist is a collection of songs that had top streaming numbers for that year. We also defined continents as categories to analyze different parts of the world. One continent that is not included in this analysis is Antarctica, as it is not highly populated and therefore does not have sufficient music data to include in the research. We also did not include North America yet, as it is hard to pin down genres that include exclusively American music. In order to categorize songs, we had to first organize genres into categories based on regions that they're from. For example, K-Pop would be categorized under the continent of Asia. We then identified artists in the playlists, checked to see what genre they fell under (which in turn gave us what continent they fell under), and then plotted each continent on a graph for visualization.\n",
    "\n",
    "Although this topic focuses on the broad idea of the spread of music from different cultures, we also can expand our research to see how different types of music compare to each other as well. We can delve into other questions such as During which years did music from Asia gain popularity? or What continent produced the most hits in the past five years? and related topics.\n",
    "\n"
   ]
  },
  {
   "cell_type": "markdown",
   "id": "7c096fc1",
   "metadata": {},
   "source": [
    "# Visualization"
   ]
  },
  {
   "cell_type": "code",
   "execution_count": 1,
   "id": "26e34814",
   "metadata": {},
   "outputs": [],
   "source": [
    "\n",
    "import requests\n",
    "import spotipy\n",
    "from spotipy.oauth2 import SpotifyClientCredentials\n",
    "import pandas as pd\n",
    "from IPython.display import display, clear_output\n",
    "import matplotlib.pyplot as plt\n",
    "import numpy as np\n"
   ]
  },
  {
   "cell_type": "code",
   "execution_count": 2,
   "id": "11923f27",
   "metadata": {},
   "outputs": [],
   "source": [
    "# Need to create a spotify developer account to access data (free) \n",
    "# Then navigate to dashbboard and create a project\n",
    "# After creating a project, copy client ID and client secret\n",
    "# Need to run command from terminal: pip install spotipy \n",
    "cid = 'accc4df73a694fabbce2979c05a8bf40'\n",
    "secret = 'dbc8258de4a34382b6e51e2c99d30527'\n",
    "spotify = spotipy.Spotify(client_credentials_manager=SpotifyClientCredentials(client_id=cid, client_secret=secret))\n",
    "\n"
   ]
  },
  {
   "cell_type": "code",
   "execution_count": 3,
   "id": "8a26d940",
   "metadata": {},
   "outputs": [],
   "source": [
    "# urls of top songs of each year according to spotify\n",
    "top_2021_url = 'https://open.spotify.com/playlist/37i9dQZF1DX18jTM2l2fJY?si=8b783d32e1b94960'\n",
    "top_2020_url = 'https://open.spotify.com/playlist/37i9dQZF1DX7Jl5KP2eZaS?si=0faff1f0fc9d4ee2'\n",
    "top_2019_url = 'https://open.spotify.com/playlist/37i9dQZF1DWVRSukIED0e9?si=381011c3547342de'\n",
    "top_2018_url = 'https://open.spotify.com/playlist/37i9dQZF1DXe2bobNYDtW8?si=9048770b740f4e3b'\n",
    "top_2017_url = 'https://open.spotify.com/playlist/37i9dQZF1DWTE7dVUebpUW?si=c495c49a26b246a7'\n",
    "top_2016_url = 'https://open.spotify.com/playlist/37i9dQZF1DX8XZ6AUo9R4R?si=c312d229e63f41b5'\n",
    "top_2015_url = 'https://open.spotify.com/playlist/37i9dQZF1DX9ukdrXQLJGZ?si=8bfbd597717f4c45'\n",
    "top_2014_url = 'https://open.spotify.com/playlist/37i9dQZF1DX0h0QnLkMBl4?si=cc89e28b013e4a80'\n",
    "top_2013_url = 'https://open.spotify.com/playlist/37i9dQZF1DX3Sp0P28SIer?si=fc12adfe75444714'\n",
    "top_2012_url = 'https://open.spotify.com/playlist/37i9dQZF1DX0yEZaMOXna3?si=6aaa12f759eb41a7'\n",
    "top_2011_url = 'https://open.spotify.com/playlist/37i9dQZF1DXcagnSNtrGuJ?si=53960ef314664e7a'\n",
    "top_2010_url = 'https://open.spotify.com/playlist/37i9dQZF1DXc6IFF23C9jj?si=cb9e8fdf3d7f4c0c'\n",
    "top_2009_url = 'https://open.spotify.com/playlist/37i9dQZF1DX4UkKv8ED8jp?si=3f24f53ccbdf4512'\n",
    "top_2008_url = 'https://open.spotify.com/playlist/37i9dQZF1DWYuGZUE4XQXm?si=00727ff42b5a4826'\n",
    "\n",
    "urls = [top_2021_url, top_2020_url, top_2019_url, top_2018_url, top_2017_url, top_2016_url, top_2015_url, top_2014_url,\n",
    "        top_2013_url, top_2012_url, top_2011_url, top_2010_url, top_2009_url, top_2008_url]\n",
    "\n",
    "\n",
    "# Columns of the data frame: name of artist, main genre, popularity score, year of popularity, name of song\n",
    "names = []\n",
    "inv_genre = []\n",
    "pop = []\n",
    "years = []\n",
    "songs = []\n",
    "\n",
    "counter = 0\n",
    "year = 2021\n"
   ]
  },
  {
   "cell_type": "code",
   "execution_count": 4,
   "id": "e6328720",
   "metadata": {},
   "outputs": [
    {
     "data": {
      "text/html": [
       "<div>\n",
       "<style scoped>\n",
       "    .dataframe tbody tr th:only-of-type {\n",
       "        vertical-align: middle;\n",
       "    }\n",
       "\n",
       "    .dataframe tbody tr th {\n",
       "        vertical-align: top;\n",
       "    }\n",
       "\n",
       "    .dataframe thead th {\n",
       "        text-align: right;\n",
       "    }\n",
       "</style>\n",
       "<table border=\"1\" class=\"dataframe\">\n",
       "  <thead>\n",
       "    <tr style=\"text-align: right;\">\n",
       "      <th></th>\n",
       "      <th>Artist Name</th>\n",
       "      <th>Track</th>\n",
       "      <th>Main Genre</th>\n",
       "      <th>Popularity</th>\n",
       "      <th>Year in Top 50</th>\n",
       "    </tr>\n",
       "  </thead>\n",
       "  <tbody>\n",
       "  </tbody>\n",
       "</table>\n",
       "</div>"
      ],
      "text/plain": [
       "Empty DataFrame\n",
       "Columns: [Artist Name, Track, Main Genre, Popularity, Year in Top 50]\n",
       "Index: []"
      ]
     },
     "execution_count": 4,
     "metadata": {},
     "output_type": "execute_result"
    }
   ],
   "source": [
    "# Creates Dataframe of all the data\n",
    "overall_df = pd.DataFrame({'Artist Name': names, 'Track': songs,'Main Genre': inv_genre, \n",
    "                         'Popularity': pop, 'Year in Top 50': years})\n",
    "overall_df.tail()\n",
    "# overall_df.to_csv('music.csv')\n"
   ]
  },
  {
   "cell_type": "code",
   "execution_count": 5,
   "id": "7237bab5",
   "metadata": {},
   "outputs": [
    {
     "data": {
      "text/html": [
       "<div>\n",
       "<style scoped>\n",
       "    .dataframe tbody tr th:only-of-type {\n",
       "        vertical-align: middle;\n",
       "    }\n",
       "\n",
       "    .dataframe tbody tr th {\n",
       "        vertical-align: top;\n",
       "    }\n",
       "\n",
       "    .dataframe thead th {\n",
       "        text-align: right;\n",
       "    }\n",
       "</style>\n",
       "<table border=\"1\" class=\"dataframe\">\n",
       "  <thead>\n",
       "    <tr style=\"text-align: right;\">\n",
       "      <th></th>\n",
       "      <th>Artist Name</th>\n",
       "      <th>Track</th>\n",
       "      <th>Main Genre</th>\n",
       "      <th>Popularity</th>\n",
       "      <th>Year in Top 50</th>\n",
       "    </tr>\n",
       "  </thead>\n",
       "  <tbody>\n",
       "    <tr>\n",
       "      <th>0</th>\n",
       "      <td>Harry Styles</td>\n",
       "      <td>As It Was</td>\n",
       "      <td>pop</td>\n",
       "      <td>89</td>\n",
       "      <td>2021</td>\n",
       "    </tr>\n",
       "    <tr>\n",
       "      <th>1</th>\n",
       "      <td>Glass Animals</td>\n",
       "      <td>Heat Waves</td>\n",
       "      <td>gauze pop</td>\n",
       "      <td>78</td>\n",
       "      <td>2021</td>\n",
       "    </tr>\n",
       "    <tr>\n",
       "      <th>2</th>\n",
       "      <td>The Kid LAROI</td>\n",
       "      <td>STAY (with Justin Bieber)</td>\n",
       "      <td>australian hip hop</td>\n",
       "      <td>81</td>\n",
       "      <td>2021</td>\n",
       "    </tr>\n",
       "    <tr>\n",
       "      <th>3</th>\n",
       "      <td>Justin Bieber</td>\n",
       "      <td>STAY (with Justin Bieber)</td>\n",
       "      <td>canadian pop</td>\n",
       "      <td>90</td>\n",
       "      <td>2021</td>\n",
       "    </tr>\n",
       "    <tr>\n",
       "      <th>4</th>\n",
       "      <td>Bad Bunny</td>\n",
       "      <td>Me Porto Bonito</td>\n",
       "      <td>reggaeton</td>\n",
       "      <td>98</td>\n",
       "      <td>2021</td>\n",
       "    </tr>\n",
       "    <tr>\n",
       "      <th>...</th>\n",
       "      <td>...</td>\n",
       "      <td>...</td>\n",
       "      <td>...</td>\n",
       "      <td>...</td>\n",
       "      <td>...</td>\n",
       "    </tr>\n",
       "    <tr>\n",
       "      <th>974</th>\n",
       "      <td>Jonas Brothers</td>\n",
       "      <td>Burnin' Up</td>\n",
       "      <td>boy band</td>\n",
       "      <td>75</td>\n",
       "      <td>2008</td>\n",
       "    </tr>\n",
       "    <tr>\n",
       "      <th>975</th>\n",
       "      <td>Natasha Bedingfield</td>\n",
       "      <td>Pocketful of Sunshine</td>\n",
       "      <td>dance pop</td>\n",
       "      <td>64</td>\n",
       "      <td>2008</td>\n",
       "    </tr>\n",
       "    <tr>\n",
       "      <th>976</th>\n",
       "      <td>Jeezy</td>\n",
       "      <td>Put On</td>\n",
       "      <td>atl hip hop</td>\n",
       "      <td>70</td>\n",
       "      <td>2008</td>\n",
       "    </tr>\n",
       "    <tr>\n",
       "      <th>977</th>\n",
       "      <td>Kanye West</td>\n",
       "      <td>Put On</td>\n",
       "      <td>chicago rap</td>\n",
       "      <td>90</td>\n",
       "      <td>2008</td>\n",
       "    </tr>\n",
       "    <tr>\n",
       "      <th>978</th>\n",
       "      <td>Eric Prydz</td>\n",
       "      <td>Pjanoo - Radio Edit</td>\n",
       "      <td>disco house</td>\n",
       "      <td>63</td>\n",
       "      <td>2008</td>\n",
       "    </tr>\n",
       "  </tbody>\n",
       "</table>\n",
       "<p>979 rows × 5 columns</p>\n",
       "</div>"
      ],
      "text/plain": [
       "             Artist Name                      Track          Main Genre  \\\n",
       "0           Harry Styles                  As It Was                 pop   \n",
       "1          Glass Animals                 Heat Waves           gauze pop   \n",
       "2          The Kid LAROI  STAY (with Justin Bieber)  australian hip hop   \n",
       "3          Justin Bieber  STAY (with Justin Bieber)        canadian pop   \n",
       "4              Bad Bunny            Me Porto Bonito           reggaeton   \n",
       "..                   ...                        ...                 ...   \n",
       "974       Jonas Brothers                 Burnin' Up            boy band   \n",
       "975  Natasha Bedingfield      Pocketful of Sunshine           dance pop   \n",
       "976                Jeezy                     Put On         atl hip hop   \n",
       "977           Kanye West                     Put On         chicago rap   \n",
       "978           Eric Prydz        Pjanoo - Radio Edit         disco house   \n",
       "\n",
       "     Popularity  Year in Top 50  \n",
       "0            89            2021  \n",
       "1            78            2021  \n",
       "2            81            2021  \n",
       "3            90            2021  \n",
       "4            98            2021  \n",
       "..          ...             ...  \n",
       "974          75            2008  \n",
       "975          64            2008  \n",
       "976          70            2008  \n",
       "977          90            2008  \n",
       "978          63            2008  \n",
       "\n",
       "[979 rows x 5 columns]"
      ]
     },
     "execution_count": 5,
     "metadata": {},
     "output_type": "execute_result"
    }
   ],
   "source": [
    "overall_df = pd.read_csv('music.csv')\n",
    "overall_df.drop('Unnamed: 0', inplace=True, axis=1)\n",
    "overall_df"
   ]
  },
  {
   "cell_type": "code",
   "execution_count": 6,
   "id": "35a349ee",
   "metadata": {},
   "outputs": [
    {
     "data": {
      "text/html": [
       "<div>\n",
       "<style scoped>\n",
       "    .dataframe tbody tr th:only-of-type {\n",
       "        vertical-align: middle;\n",
       "    }\n",
       "\n",
       "    .dataframe tbody tr th {\n",
       "        vertical-align: top;\n",
       "    }\n",
       "\n",
       "    .dataframe thead th {\n",
       "        text-align: right;\n",
       "    }\n",
       "</style>\n",
       "<table border=\"1\" class=\"dataframe\">\n",
       "  <thead>\n",
       "    <tr style=\"text-align: right;\">\n",
       "      <th></th>\n",
       "      <th>Main Genre</th>\n",
       "      <th>0</th>\n",
       "    </tr>\n",
       "  </thead>\n",
       "  <tbody>\n",
       "    <tr>\n",
       "      <th>0</th>\n",
       "      <td>acid house</td>\n",
       "      <td>1</td>\n",
       "    </tr>\n",
       "    <tr>\n",
       "      <th>1</th>\n",
       "      <td>acoustic pop</td>\n",
       "      <td>3</td>\n",
       "    </tr>\n",
       "    <tr>\n",
       "      <th>2</th>\n",
       "      <td>adult standards</td>\n",
       "      <td>1</td>\n",
       "    </tr>\n",
       "    <tr>\n",
       "      <th>3</th>\n",
       "      <td>afro dancehall</td>\n",
       "      <td>2</td>\n",
       "    </tr>\n",
       "    <tr>\n",
       "      <th>4</th>\n",
       "      <td>afrofuturism</td>\n",
       "      <td>2</td>\n",
       "    </tr>\n",
       "    <tr>\n",
       "      <th>...</th>\n",
       "      <td>...</td>\n",
       "      <td>...</td>\n",
       "    </tr>\n",
       "    <tr>\n",
       "      <th>138</th>\n",
       "      <td>tropical house</td>\n",
       "      <td>1</td>\n",
       "    </tr>\n",
       "    <tr>\n",
       "      <th>139</th>\n",
       "      <td>uk funky</td>\n",
       "      <td>1</td>\n",
       "    </tr>\n",
       "    <tr>\n",
       "      <th>140</th>\n",
       "      <td>uk hip hop</td>\n",
       "      <td>1</td>\n",
       "    </tr>\n",
       "    <tr>\n",
       "      <th>141</th>\n",
       "      <td>uk pop</td>\n",
       "      <td>1</td>\n",
       "    </tr>\n",
       "    <tr>\n",
       "      <th>142</th>\n",
       "      <td>viral pop</td>\n",
       "      <td>1</td>\n",
       "    </tr>\n",
       "  </tbody>\n",
       "</table>\n",
       "<p>143 rows × 2 columns</p>\n",
       "</div>"
      ],
      "text/plain": [
       "          Main Genre  0\n",
       "0         acid house  1\n",
       "1       acoustic pop  3\n",
       "2    adult standards  1\n",
       "3     afro dancehall  2\n",
       "4       afrofuturism  2\n",
       "..               ... ..\n",
       "138   tropical house  1\n",
       "139         uk funky  1\n",
       "140       uk hip hop  1\n",
       "141           uk pop  1\n",
       "142        viral pop  1\n",
       "\n",
       "[143 rows x 2 columns]"
      ]
     },
     "execution_count": 6,
     "metadata": {},
     "output_type": "execute_result"
    }
   ],
   "source": [
    "new_df = overall_df.groupby(['Main Genre']).size().reset_index()\n",
    "# new_df = latin_df.groupby(['Track', 'Year in Top 50']).size().reset_index()\n",
    "# new_df = new_df.drop(columns=['Track']).groupby('Year in Top 50').size().reset_index()\n",
    "# new_df = new_df.rename(columns={0:\"Number of Latin Songs\", 'Year in Top 50': 'Top 50 Tracks of the Year' }).set_index('Top 50 Tracks of the Year')\n",
    "new_df\n"
   ]
  },
  {
   "cell_type": "code",
   "execution_count": 7,
   "id": "ef4c77e4",
   "metadata": {},
   "outputs": [
    {
     "data": {
      "image/png": "[encoded data removed]",
      "text/plain": [
       "<Figure size 720x576 with 1 Axes>"
      ]
     },
     "metadata": {
      "needs_background": "light"
     },
     "output_type": "display_data"
    }
   ],
   "source": [
    "# overall_df.to_csv('music.csv')\n",
    "for i in range(2008,2022):\n",
    "    sub_df = overall_df[overall_df['Year in Top 50'] == i]\n",
    "    sub_df = sub_df.groupby(['Main Genre']).size()\n",
    "    sub_df = sub_df.sort_values(ascending=False)[:5]\n",
    "    plt.pause(0.5)\n",
    "    ax = sub_df.plot.bar(figsize=(10,8))\n",
    "    ax.set_title(\"Top 5 songs of \" + str(i))\n",
    "    plt.show()\n",
    "    clear_output(wait = True)"
   ]
  },
  {
   "cell_type": "code",
   "execution_count": 8,
   "id": "db4462dc",
   "metadata": {},
   "outputs": [
    {
     "data": {
      "text/plain": [
       "<AxesSubplot:xlabel='Top 50 Tracks of the Year'>"
      ]
     },
     "execution_count": 8,
     "metadata": {},
     "output_type": "execute_result"
    },
    {
     "data": {
      "image/png": "[encoded data removed]",
      "text/plain": [
       "<Figure size 432x288 with 1 Axes>"
      ]
     },
     "metadata": {
      "needs_background": "light"
     },
     "output_type": "display_data"
    }
   ],
   "source": [
    "latin_genres = ['reggaeton', 'trap latino','puerto rican pop','colombian pop', 'cumbia',\n",
    "                'latin hip hop','reggaeton flow','reggaeton colombiano','latin pop', 'pop argentino']\n",
    "latin_df = overall_df[overall_df['Main Genre'].isin(latin_genres)]\n",
    "\n",
    "\n",
    "new_df = latin_df.groupby(['Track', 'Year in Top 50']).size().reset_index()\n",
    "new_df = new_df.drop(columns=['Track']).groupby('Year in Top 50').size().reset_index()\n",
    "new_df = new_df.rename(columns={0:\"Number of Latin Songs\", 'Year in Top 50': 'Top 50 Tracks of the Year' }).set_index('Top 50 Tracks of the Year')\n",
    "new_df.plot.bar()\n"
   ]
  },
  {
   "cell_type": "code",
   "execution_count": 9,
   "id": "940737d9",
   "metadata": {},
   "outputs": [
    {
     "data": {
      "text/plain": [
       "<AxesSubplot:xlabel='Top 50 Tracks of the Year'>"
      ]
     },
     "execution_count": 9,
     "metadata": {},
     "output_type": "execute_result"
    },
    {
     "data": {
      "image/png": "[encoded data removed]",
      "text/plain": [
       "<Figure size 432x288 with 1 Axes>"
      ]
     },
     "metadata": {
      "needs_background": "light"
     },
     "output_type": "display_data"
    }
   ],
   "source": [
    "asia_genres = ['k-hop','K-indie','k-pop','Indian Pop','Indian Rock','Deep Indian Pop','C-pop','Chinese Indie Rock']\n",
    "\n",
    "asia_df = overall_df[overall_df['Main Genre'].isin(asia_genres)]\n",
    "\n",
    "new_df = asia_df.groupby(['Track', 'Year in Top 50']).size().reset_index()\n",
    "new_df = new_df.drop(columns=['Track']).groupby('Year in Top 50').size().reset_index()\n",
    "new_df = new_df.rename(columns={0:\"Number of Asian Songs\", 'Year in Top 50': 'Top 50 Tracks of the Year' }).set_index('Top 50 Tracks of the Year')\n",
    "new_df.plot.bar()"
   ]
  },
  {
   "cell_type": "code",
   "execution_count": 10,
   "id": "6d7c8723",
   "metadata": {},
   "outputs": [
    {
     "data": {
      "text/plain": [
       "<AxesSubplot:xlabel='Top 50 Tracks of the Year'>"
      ]
     },
     "execution_count": 10,
     "metadata": {},
     "output_type": "execute_result"
    },
    {
     "data": {
      "image/png": "[encoded data removed]",
      "text/plain": [
       "<Figure size 432x288 with 1 Axes>"
      ]
     },
     "metadata": {
      "needs_background": "light"
     },
     "output_type": "display_data"
    }
   ],
   "source": [
    "afro_genres = ['African Percussion', 'African Rock', 'Arikaans', 'Afrobeat', 'Afrobeats','afrofuturism',\n",
    "              'afro dancehall']\n",
    "\n",
    "afro_df = overall_df[overall_df['Main Genre'].isin(afro_genres)]\n",
    "\n",
    "new_df = afro_df.groupby(['Track', 'Year in Top 50']).size().reset_index()\n",
    "new_df = new_df.drop(columns=['Track']).groupby('Year in Top 50').size().reset_index()\n",
    "new_df = new_df.rename(columns={0:\"Number of Afro Songs\", 'Year in Top 50': 'Top 50 Tracks of the Year' }).set_index('Top 50 Tracks of the Year')\n",
    "new_df.plot.bar()"
   ]
  },
  {
   "cell_type": "code",
   "execution_count": 11,
   "id": "e865049d",
   "metadata": {},
   "outputs": [
    {
     "data": {
      "text/plain": [
       "<AxesSubplot:xlabel='Top 50 Tracks of the Year'>"
      ]
     },
     "execution_count": 11,
     "metadata": {},
     "output_type": "execute_result"
    },
    {
     "data": {
      "image/png": "[encoded data removed]",
      "text/plain": [
       "<Figure size 432x288 with 1 Axes>"
      ]
     },
     "metadata": {
      "needs_background": "light"
     },
     "output_type": "display_data"
    }
   ],
   "source": [
    "euro_genres = ['classic eurovision', 'deep euro house', 'deep eurodance','eurobeat','eurodance',\n",
    "               'europop','eurovision','french hip hop', 'french shoegaze', 'uk hip hop','british soul',\n",
    "              'german pop','swedish pop', 'uk funky', 'uk pop']\n",
    "\n",
    "euro_df = overall_df[overall_df['Main Genre'].isin(euro_genres)]\n",
    "\n",
    "new_df = euro_df.groupby(['Track', 'Year in Top 50']).size().reset_index()\n",
    "new_df = new_df.drop(columns=['Track']).groupby('Year in Top 50').size().reset_index()\n",
    "new_df = new_df.rename(columns={0:\"Number of European Songs\", 'Year in Top 50': 'Top 50 Tracks of the Year' }).set_index('Top 50 Tracks of the Year')\n",
    "new_df.plot.bar()\n"
   ]
  },
  {
   "cell_type": "code",
   "execution_count": 12,
   "id": "c30a65d7",
   "metadata": {},
   "outputs": [],
   "source": [
    "update_df = overall_df.copy()\n",
    "\n",
    "update = overall_df['Main Genre'].isin(latin_genres)\n",
    "update_df.loc[update, 'Main Genre'] = 'latin'\n",
    "\n",
    "update = overall_df['Main Genre'].isin(asia_genres)\n",
    "update_df.loc[update, 'Main Genre'] = 'asian'\n",
    "\n",
    "update = overall_df['Main Genre'].isin(euro_genres)\n",
    "update_df.loc[update, 'Main Genre'] = 'euro'\n",
    "\n",
    "update = overall_df['Main Genre'].isin(afro_genres)\n",
    "update_df.loc[update, 'Main Genre'] = 'afro'\n",
    "\n",
    "# update_df"
   ]
  },
  {
   "cell_type": "code",
   "execution_count": 13,
   "id": "db63273c",
   "metadata": {},
   "outputs": [
    {
     "data": {
      "image/png": "[encoded data removed]",
      "text/plain": [
       "<Figure size 720x720 with 1 Axes>"
      ]
     },
     "metadata": {},
     "output_type": "display_data"
    }
   ],
   "source": [
    "diff_genres = ['latin', 'asian', 'euro', 'afro']\n",
    "diff_df = update_df[update_df['Main Genre'].isin(diff_genres)]\n",
    "helper = diff_df.copy()\n",
    "diff_df = diff_df.groupby(['Main Genre']).size()\n",
    "ax = diff_df.plot.pie(y='Main Genre', figsize = (10,10),autopct='%1.1f%%')\n",
    "ax.set_title('Pie Chart of Top Trending Music in US of Different Cultures From 2008-2021')\n",
    "ax.set_ylabel(\"\")\n",
    "plt.show()"
   ]
  },
  {
   "cell_type": "code",
   "execution_count": 14,
   "id": "5dae3d3b",
   "metadata": {},
   "outputs": [],
   "source": [
    "cultures_df = update_df.copy()\n",
    "update = cultures_df['Main Genre'].isin(diff_genres)\n",
    "cultures_df.loc[update, 'Main Genre'] = 'Foreign'\n",
    "# cultures_df"
   ]
  },
  {
   "cell_type": "code",
   "execution_count": 15,
   "id": "1048b361",
   "metadata": {},
   "outputs": [
    {
     "data": {
      "image/png": "[encoded data removed]",
      "text/plain": [
       "<Figure size 720x504 with 1 Axes>"
      ]
     },
     "metadata": {
      "needs_background": "light"
     },
     "output_type": "display_data"
    }
   ],
   "source": [
    "cultures_df = cultures_df[cultures_df['Main Genre'].isin(['Foreign'])]\n",
    "new_df = cultures_df.groupby(['Track', 'Year in Top 50']).size().reset_index()\n",
    "new_df = new_df.drop(columns=['Track']).groupby('Year in Top 50').size().reset_index()\n",
    "new_df = new_df.rename(columns={0:\"Number of Foriegn Songs\", 'Year in Top 50': 'Top 50 Tracks of the Year' }).set_index('Top 50 Tracks of the Year')\n",
    "ax = new_df.plot.line(marker='H', figsize=(10,7))\n",
    "ax.set_title('Number of Foreign Trakcs in the US Spotify Top 50 Trending From 2008-2021')\n",
    "ax.margins(y=.1, x=.1)\n",
    "plt.show()\n"
   ]
  },
  {
   "cell_type": "markdown",
   "id": "3ce08dfe",
   "metadata": {},
   "source": [
    "## PCA"
   ]
  },
  {
   "cell_type": "code",
   "execution_count": 16,
   "id": "5a32aeaf",
   "metadata": {},
   "outputs": [
    {
     "data": {
      "text/html": [
       "<div>\n",
       "<style scoped>\n",
       "    .dataframe tbody tr th:only-of-type {\n",
       "        vertical-align: middle;\n",
       "    }\n",
       "\n",
       "    .dataframe tbody tr th {\n",
       "        vertical-align: top;\n",
       "    }\n",
       "\n",
       "    .dataframe thead th {\n",
       "        text-align: right;\n",
       "    }\n",
       "</style>\n",
       "<table border=\"1\" class=\"dataframe\">\n",
       "  <thead>\n",
       "    <tr style=\"text-align: right;\">\n",
       "      <th></th>\n",
       "      <th>Popularity</th>\n",
       "      <th>Year in Top 50</th>\n",
       "    </tr>\n",
       "  </thead>\n",
       "  <tbody>\n",
       "    <tr>\n",
       "      <th>4</th>\n",
       "      <td>1.417094</td>\n",
       "      <td>0.886112</td>\n",
       "    </tr>\n",
       "    <tr>\n",
       "      <th>5</th>\n",
       "      <td>-0.026501</td>\n",
       "      <td>0.886112</td>\n",
       "    </tr>\n",
       "    <tr>\n",
       "      <th>6</th>\n",
       "      <td>1.417094</td>\n",
       "      <td>0.886112</td>\n",
       "    </tr>\n",
       "    <tr>\n",
       "      <th>15</th>\n",
       "      <td>1.417094</td>\n",
       "      <td>0.886112</td>\n",
       "    </tr>\n",
       "    <tr>\n",
       "      <th>16</th>\n",
       "      <td>-0.700178</td>\n",
       "      <td>0.886112</td>\n",
       "    </tr>\n",
       "    <tr>\n",
       "      <th>...</th>\n",
       "      <td>...</td>\n",
       "      <td>...</td>\n",
       "    </tr>\n",
       "    <tr>\n",
       "      <th>733</th>\n",
       "      <td>0.069739</td>\n",
       "      <td>-1.931479</td>\n",
       "    </tr>\n",
       "    <tr>\n",
       "      <th>770</th>\n",
       "      <td>-1.373856</td>\n",
       "      <td>-1.931479</td>\n",
       "    </tr>\n",
       "    <tr>\n",
       "      <th>793</th>\n",
       "      <td>-0.315220</td>\n",
       "      <td>-2.213238</td>\n",
       "    </tr>\n",
       "    <tr>\n",
       "      <th>902</th>\n",
       "      <td>0.262218</td>\n",
       "      <td>-2.494997</td>\n",
       "    </tr>\n",
       "    <tr>\n",
       "      <th>969</th>\n",
       "      <td>0.069739</td>\n",
       "      <td>-2.776756</td>\n",
       "    </tr>\n",
       "  </tbody>\n",
       "</table>\n",
       "<p>69 rows × 2 columns</p>\n",
       "</div>"
      ],
      "text/plain": [
       "     Popularity  Year in Top 50\n",
       "4      1.417094        0.886112\n",
       "5     -0.026501        0.886112\n",
       "6      1.417094        0.886112\n",
       "15     1.417094        0.886112\n",
       "16    -0.700178        0.886112\n",
       "..          ...             ...\n",
       "733    0.069739       -1.931479\n",
       "770   -1.373856       -1.931479\n",
       "793   -0.315220       -2.213238\n",
       "902    0.262218       -2.494997\n",
       "969    0.069739       -2.776756\n",
       "\n",
       "[69 rows x 2 columns]"
      ]
     },
     "execution_count": 16,
     "metadata": {},
     "output_type": "execute_result"
    }
   ],
   "source": [
    "quant = helper.iloc[:,3:5]\n",
    "\n",
    "norm = (quant - quant.mean())/quant.std()\n",
    "norm"
   ]
  },
  {
   "cell_type": "code",
   "execution_count": 17,
   "id": "b90a1d55",
   "metadata": {},
   "outputs": [],
   "source": [
    "import sklearn.metrics.pairwise\n",
    "import sklearn.cluster\n",
    "import sklearn.decomposition"
   ]
  },
  {
   "cell_type": "code",
   "execution_count": 18,
   "id": "b52f97ee",
   "metadata": {},
   "outputs": [
    {
     "data": {
      "text/html": [
       "<div>\n",
       "<style scoped>\n",
       "    .dataframe tbody tr th:only-of-type {\n",
       "        vertical-align: middle;\n",
       "    }\n",
       "\n",
       "    .dataframe tbody tr th {\n",
       "        vertical-align: top;\n",
       "    }\n",
       "\n",
       "    .dataframe thead th {\n",
       "        text-align: right;\n",
       "    }\n",
       "</style>\n",
       "<table border=\"1\" class=\"dataframe\">\n",
       "  <thead>\n",
       "    <tr style=\"text-align: right;\">\n",
       "      <th></th>\n",
       "      <th>State</th>\n",
       "      <th>Cluster</th>\n",
       "    </tr>\n",
       "  </thead>\n",
       "  <tbody>\n",
       "    <tr>\n",
       "      <th>4</th>\n",
       "      <td>latin</td>\n",
       "      <td>0</td>\n",
       "    </tr>\n",
       "    <tr>\n",
       "      <th>185</th>\n",
       "      <td>latin</td>\n",
       "      <td>0</td>\n",
       "    </tr>\n",
       "    <tr>\n",
       "      <th>176</th>\n",
       "      <td>asian</td>\n",
       "      <td>0</td>\n",
       "    </tr>\n",
       "    <tr>\n",
       "      <th>226</th>\n",
       "      <td>latin</td>\n",
       "      <td>0</td>\n",
       "    </tr>\n",
       "    <tr>\n",
       "      <th>130</th>\n",
       "      <td>latin</td>\n",
       "      <td>0</td>\n",
       "    </tr>\n",
       "    <tr>\n",
       "      <th>...</th>\n",
       "      <td>...</td>\n",
       "      <td>...</td>\n",
       "    </tr>\n",
       "    <tr>\n",
       "      <th>265</th>\n",
       "      <td>latin</td>\n",
       "      <td>3</td>\n",
       "    </tr>\n",
       "    <tr>\n",
       "      <th>770</th>\n",
       "      <td>euro</td>\n",
       "      <td>3</td>\n",
       "    </tr>\n",
       "    <tr>\n",
       "      <th>259</th>\n",
       "      <td>euro</td>\n",
       "      <td>3</td>\n",
       "    </tr>\n",
       "    <tr>\n",
       "      <th>569</th>\n",
       "      <td>euro</td>\n",
       "      <td>3</td>\n",
       "    </tr>\n",
       "    <tr>\n",
       "      <th>362</th>\n",
       "      <td>euro</td>\n",
       "      <td>3</td>\n",
       "    </tr>\n",
       "  </tbody>\n",
       "</table>\n",
       "<p>69 rows × 2 columns</p>\n",
       "</div>"
      ],
      "text/plain": [
       "     State  Cluster\n",
       "4    latin        0\n",
       "185  latin        0\n",
       "176  asian        0\n",
       "226  latin        0\n",
       "130  latin        0\n",
       "..     ...      ...\n",
       "265  latin        3\n",
       "770   euro        3\n",
       "259   euro        3\n",
       "569   euro        3\n",
       "362   euro        3\n",
       "\n",
       "[69 rows x 2 columns]"
      ]
     },
     "execution_count": 18,
     "metadata": {},
     "output_type": "execute_result"
    }
   ],
   "source": [
    "clust = sklearn.cluster.KMeans(n_clusters = 4, n_init=1, max_iter=10)\n",
    "clust.init = norm.iloc[:4,:]\n",
    "clust.fit(norm)\n",
    "cluster_labels = list(clust.labels_)\n",
    "bot =pd.DataFrame()\n",
    "bot['State'] = helper['Main Genre']\n",
    "bot['Cluster'] = cluster_labels\n",
    "bot = bot.sort_values(by='Cluster')\n",
    "bot"
   ]
  },
  {
   "cell_type": "code",
   "execution_count": 19,
   "id": "2927b2aa",
   "metadata": {},
   "outputs": [
    {
     "data": {
      "text/plain": [
       "<AxesSubplot:xlabel='X', ylabel='Y'>"
      ]
     },
     "execution_count": 19,
     "metadata": {},
     "output_type": "execute_result"
    },
    {
     "data": {
      "image/png": "[encoded data removed]",
      "text/plain": [
       "<Figure size 432x288 with 2 Axes>"
      ]
     },
     "metadata": {
      "needs_background": "light"
     },
     "output_type": "display_data"
    }
   ],
   "source": [
    "pca = sklearn.decomposition.PCA(svd_solver='full')\n",
    "tablePCA = pca.fit_transform(norm)\n",
    "tablePCA = pd.DataFrame(tablePCA, index = helper['Main Genre'])\n",
    "tab = pd.DataFrame()\n",
    "tab['X'] = tablePCA.iloc[:,0]\n",
    "tab['Y'] = tablePCA.iloc[:,1]\n",
    "tab.plot.scatter('X', 'Y', c=bot.Cluster,colormap = 'rainbow')"
   ]
  },
  {
   "cell_type": "markdown",
   "id": "844d6e09",
   "metadata": {},
   "source": [
    "# Analysis\n",
    "\n",
    "Before analyzing the indivual bar graphs for the different regions, it is important to note that missing years on the x-axis indicate that there were no songs in that genre that were included in that year's playlist (did not make it into the top songs for that year).\n",
    "\n",
    "## South America\n",
    "When looking at the graph for genres originating from South America, we can see that in past years the popularity of the genre was low. We then see a drastic rise in popularity in 2021, showing a boom in the South American and Latin-inspired genres.\n",
    "\n",
    "## Asia\n",
    "The graph for genres originating from Asia shows us that there was a constant but low popularity for only four of the yearly playlists. One question that rises from this is: Even if songs from this genre are not in the top 50 annual playlists, can we assume that it isn't a popular genre at all?\n",
    "\n",
    "## Africa\n",
    "The presence of songs originating from Africa in the playlists is extremely low, bringing up more questions as to why this genre has not gained popularity in America. We may be able to attribute this to a possible data source problem, as we only provide a limited amount of genres that we were searching for.\n",
    "\n",
    "## Europe\n",
    "Popularity of genres associated with the European region is also pretty constant over the years, although songs from the region appear in more annual top 50 playlists than any of the otehr regions. "
   ]
  },
  {
   "cell_type": "markdown",
   "id": "3390c05d",
   "metadata": {},
   "source": [
    "# Conclusion\n",
    "\n",
    "From our bar graph and a line graph of songs from different cultures in the top 50s, we can see that these other songs between 2008 - 2021 had mostly had a steady climb of influence in our culture until 2021, when they skyrocketed in popularity. This shows a great interest in songs that stray away from the status quo in America is on the rise and has been very influential these past years. This does raise questions about why exactly this is the case. Of course, we believe that Covid has been a factor, and the stronger emphasis on staying indoors and, by proxy, being online would help cause this surge in popularity. Still, this raises the question of why there was virtually no change between 2019 and 2020. Sure the pandemic was the entirety of 2020, but it was certainly a majority of it and had a huge influence that year, so why would the change only start to show in the 2021 statistics? There are possible theories we have, such as musicians across the world mostly taking a break once covid started, and thus most of the newer songs we would have would be unrelated to this new cultural spike and stuff like that, but we are still determining.\n",
    "\n",
    "When looking at our pie chart on the types of cultures seeing spikes in songs in our popular culture over the years, there is an overwhelming majority in Latin American songs. This does make sense as Spanish is one of the more popular languages in the U.S. outside of English and is the primary language of Latin songs. There are also a lot of strong cultural connections with Latin America in general in American Culture, especially due to regional proximity, so that is to be expected. Then comes a big section of European music which also makes sense due to American history and the influence Europe has had on America for many years. Hence, its presence in our culture is to be expected. What is interesting is the low but still decent footholds of Afro and Asian music in American popularity, and both at equal amounts. Why are these two subcategories equal amounts, and what makes them strong footholds but not quite as big as the Latin and European genres?\n"
   ]
  },
  {
   "cell_type": "markdown",
   "id": "449be4b3",
   "metadata": {},
   "source": [
    "## Some uncertainties faced in this research include: \n",
    "- We are unsure if all genres of music are available for a given country/geographic area.\n",
    "- We do not know what may have caused any noticeable spikes and/or dips of a music type during a certain time.\n",
    "## Some limitations for this research are: \n",
    "- When searching through genres to pin down a song's category, we only look at genres that are listed in Spotify. We do not have access to any genres that may exist in the region that are not considered in Spotify.\n",
    "- Not all regions being analyzed have the same genres available.\n",
    "- We cannot account for any biases created from marketing strategies that may focus on making certain genres more popular than others.\n",
    "## Biases:\n",
    "- We must recognize that Spotify content is most likely highly tailored to American audiences.\n",
    "- Genres in Spotify that are more general (Pop, Hip-Hop, etc.) are assumed to be American (Northern America), even though it could include songs from different continents.\n",
    "## Caveats:\n",
    "- Since it is hard to pin down what genres are considered in the Northern American category, we are only able to look at data outside of the region.\n",
    "- Successful years for music industry in America may overshadow the rising interest of music from other regions.\n",
    "## New problems:\n",
    "- Do trends of rise in a base genre also trickle down into a rise of regional variants of that genre? I.e. would the rise of Rock music also show a similar rise of German rock or African rock?\n"
   ]
  },
  {
   "cell_type": "code",
   "execution_count": null,
   "id": "7e8d86d0",
   "metadata": {},
   "outputs": [],
   "source": []
  }
 ],
 "metadata": {
  "kernelspec": {
   "display_name": "Python 3 (ipykernel)",
   "language": "python",
   "name": "python3"
  },
  "language_info": {
   "codemirror_mode": {
    "name": "ipython",
    "version": 3
   },
   "file_extension": ".py",
   "mimetype": "text/x-python",
   "name": "python",
   "nbconvert_exporter": "python",
   "pygments_lexer": "ipython3",
   "version": "3.9.12"
  }
 },
 "nbformat": 4,
 "nbformat_minor": 5
}
