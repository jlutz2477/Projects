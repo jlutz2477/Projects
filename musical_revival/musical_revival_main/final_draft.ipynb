{
 "cells": [
  {
   "cell_type": "code",
   "execution_count": 1,
   "id": "319c7f9f",
   "metadata": {},
   "outputs": [],
   "source": [
    "import requests\n",
    "import spotipy\n",
    "from spotipy.oauth2 import SpotifyClientCredentials\n",
    "import pandas as pd\n",
    "from IPython.display import display, clear_output\n",
    "import matplotlib.pyplot as plt\n",
    "import numpy as np"
   ]
  },
  {
   "cell_type": "code",
   "execution_count": null,
   "id": "b9322469",
   "metadata": {},
   "outputs": [],
   "source": [
    "# Need to create a spotify developer account to access data (free) \n",
    "# Then navigate to dashbboard and create a project\n",
    "# After creating a project, copy client ID and client secret\n",
    "# Need to run command from terminal: pip install spotipy \n",
    "cid = 'accc4df73a694fabbce2979c05a8bf40'\n",
    "secret = 'dbc8258de4a34382b6e51e2c99d30527'\n",
    "spotify = spotipy.Spotify(client_credentials_manager=SpotifyClientCredentials(client_id=cid, client_secret=secret))"
   ]
  },
  {
   "cell_type": "code",
   "execution_count": null,
   "id": "eed62f21",
   "metadata": {},
   "outputs": [],
   "source": [
    "# urls of top songs of each year according to spotify\n",
    "top_2021_url = 'https://open.spotify.com/playlist/37i9dQZF1DX18jTM2l2fJY?si=8b783d32e1b94960'\n",
    "top_2020_url = 'https://open.spotify.com/playlist/37i9dQZF1DX7Jl5KP2eZaS?si=0faff1f0fc9d4ee2'\n",
    "top_2019_url = 'https://open.spotify.com/playlist/37i9dQZF1DWVRSukIED0e9?si=381011c3547342de'\n",
    "top_2018_url = 'https://open.spotify.com/playlist/37i9dQZF1DXe2bobNYDtW8?si=9048770b740f4e3b'\n",
    "top_2017_url = 'https://open.spotify.com/playlist/37i9dQZF1DWTE7dVUebpUW?si=c495c49a26b246a7'\n",
    "top_2016_url = 'https://open.spotify.com/playlist/37i9dQZF1DX8XZ6AUo9R4R?si=c312d229e63f41b5'\n",
    "top_2015_url = 'https://open.spotify.com/playlist/37i9dQZF1DX9ukdrXQLJGZ?si=8bfbd597717f4c45'\n",
    "top_2014_url = 'https://open.spotify.com/playlist/37i9dQZF1DX0h0QnLkMBl4?si=cc89e28b013e4a80'\n",
    "top_2013_url = 'https://open.spotify.com/playlist/37i9dQZF1DX3Sp0P28SIer?si=fc12adfe75444714'\n",
    "top_2012_url = 'https://open.spotify.com/playlist/37i9dQZF1DX0yEZaMOXna3?si=6aaa12f759eb41a7'\n",
    "top_2011_url = 'https://open.spotify.com/playlist/37i9dQZF1DXcagnSNtrGuJ?si=53960ef314664e7a'\n",
    "top_2010_url = 'https://open.spotify.com/playlist/37i9dQZF1DXc6IFF23C9jj?si=cb9e8fdf3d7f4c0c'\n",
    "top_2009_url = 'https://open.spotify.com/playlist/37i9dQZF1DX4UkKv8ED8jp?si=3f24f53ccbdf4512'\n",
    "top_2008_url = 'https://open.spotify.com/playlist/37i9dQZF1DWYuGZUE4XQXm?si=00727ff42b5a4826'\n",
    "\n",
    "urls = [top_2021_url, top_2020_url, top_2019_url, top_2018_url, top_2017_url, top_2016_url, top_2015_url, top_2014_url,\n",
    "        top_2013_url, top_2012_url, top_2011_url, top_2010_url, top_2009_url, top_2008_url]\n",
    "\n",
    "\n",
    "# Columns of the data frame: name of artist, main genre, popularity score, year of popularity, name of song\n",
    "names = []\n",
    "inv_genre = []\n",
    "pop = []\n",
    "years = []\n",
    "songs = []\n",
    "\n",
    "counter = 0\n",
    "year = 2021"
   ]
  },
  {
   "cell_type": "code",
   "execution_count": null,
   "id": "916d0b74",
   "metadata": {},
   "outputs": [],
   "source": [
    "# Going through all urls \n",
    "for url in urls:\n",
    "    \n",
    "    #using spotify web scraper\n",
    "    results = spotify.playlist(url)\n",
    "    \n",
    "    # iterating through each song\n",
    "    for item in results['tracks']['items']:\n",
    "        \n",
    "        # Finding the top 50 songs of each year\n",
    "        if (counter < 50):\n",
    "            counter += 1\n",
    "            \n",
    "            # iterating through the artist(s) on each song max:3\n",
    "            for artist in item['track']['artists']:\n",
    "                \n",
    "                # finding data on the artist using spotify web scraper\n",
    "                artist_uri = artist['uri']\n",
    "                artist_data = spotify.artist(artist_uri)\n",
    "                \n",
    "                \n",
    "                # finding the genre of the artist\n",
    "                helper = [genre for genre in artist_data['genres']]\n",
    "                if (len(helper) > 0):\n",
    "                    \n",
    "                    # appending to data frame\n",
    "                    names.append(artist_data['name'])\n",
    "                    inv_genre.append(helper[0])\n",
    "                    pop.append(artist_data['popularity'])\n",
    "                    years.append(year)\n",
    "                    songs.append(item['track']['name'])\n",
    "                    \n",
    "    counter = 0\n",
    "    year -= 1\n",
    "\n",
    "# These lengths should all be the same\n",
    "print(len(names))\n",
    "print(len(inv_genre))\n",
    "print(len(pop))\n",
    "print(len(years))\n"
   ]
  },
  {
   "cell_type": "code",
   "execution_count": null,
   "id": "bf4df945",
   "metadata": {},
   "outputs": [],
   "source": []
  },
  {
   "cell_type": "code",
   "execution_count": null,
   "id": "6256bce9",
   "metadata": {},
   "outputs": [],
   "source": [
    "# Creates Dataframe of all the data\n",
    "overall_df = pd.DataFrame({'Artist Name': names, 'Track': songs,'Main Genre': inv_genre, \n",
    "                         'Popularity': pop, 'Year in Top 50': years})\n",
    "overall_df.tail()\n",
    "# overall_df.to_csv('music.csv')"
   ]
  },
  {
   "cell_type": "code",
   "execution_count": 2,
   "id": "925d83c6",
   "metadata": {},
   "outputs": [
    {
     "data": {
      "text/html": [
       "<div>\n",
       "<style scoped>\n",
       "    .dataframe tbody tr th:only-of-type {\n",
       "        vertical-align: middle;\n",
       "    }\n",
       "\n",
       "    .dataframe tbody tr th {\n",
       "        vertical-align: top;\n",
       "    }\n",
       "\n",
       "    .dataframe thead th {\n",
       "        text-align: right;\n",
       "    }\n",
       "</style>\n",
       "<table border=\"1\" class=\"dataframe\">\n",
       "  <thead>\n",
       "    <tr style=\"text-align: right;\">\n",
       "      <th></th>\n",
       "      <th>Artist Name</th>\n",
       "      <th>Track</th>\n",
       "      <th>Main Genre</th>\n",
       "      <th>Popularity</th>\n",
       "      <th>Year in Top 50</th>\n",
       "    </tr>\n",
       "  </thead>\n",
       "  <tbody>\n",
       "    <tr>\n",
       "      <th>0</th>\n",
       "      <td>Harry Styles</td>\n",
       "      <td>As It Was</td>\n",
       "      <td>pop</td>\n",
       "      <td>89</td>\n",
       "      <td>2021</td>\n",
       "    </tr>\n",
       "    <tr>\n",
       "      <th>1</th>\n",
       "      <td>Glass Animals</td>\n",
       "      <td>Heat Waves</td>\n",
       "      <td>gauze pop</td>\n",
       "      <td>78</td>\n",
       "      <td>2021</td>\n",
       "    </tr>\n",
       "    <tr>\n",
       "      <th>2</th>\n",
       "      <td>The Kid LAROI</td>\n",
       "      <td>STAY (with Justin Bieber)</td>\n",
       "      <td>australian hip hop</td>\n",
       "      <td>81</td>\n",
       "      <td>2021</td>\n",
       "    </tr>\n",
       "    <tr>\n",
       "      <th>3</th>\n",
       "      <td>Justin Bieber</td>\n",
       "      <td>STAY (with Justin Bieber)</td>\n",
       "      <td>canadian pop</td>\n",
       "      <td>90</td>\n",
       "      <td>2021</td>\n",
       "    </tr>\n",
       "    <tr>\n",
       "      <th>4</th>\n",
       "      <td>Bad Bunny</td>\n",
       "      <td>Me Porto Bonito</td>\n",
       "      <td>reggaeton</td>\n",
       "      <td>98</td>\n",
       "      <td>2021</td>\n",
       "    </tr>\n",
       "    <tr>\n",
       "      <th>...</th>\n",
       "      <td>...</td>\n",
       "      <td>...</td>\n",
       "      <td>...</td>\n",
       "      <td>...</td>\n",
       "      <td>...</td>\n",
       "    </tr>\n",
       "    <tr>\n",
       "      <th>974</th>\n",
       "      <td>Jonas Brothers</td>\n",
       "      <td>Burnin' Up</td>\n",
       "      <td>boy band</td>\n",
       "      <td>75</td>\n",
       "      <td>2008</td>\n",
       "    </tr>\n",
       "    <tr>\n",
       "      <th>975</th>\n",
       "      <td>Natasha Bedingfield</td>\n",
       "      <td>Pocketful of Sunshine</td>\n",
       "      <td>dance pop</td>\n",
       "      <td>64</td>\n",
       "      <td>2008</td>\n",
       "    </tr>\n",
       "    <tr>\n",
       "      <th>976</th>\n",
       "      <td>Jeezy</td>\n",
       "      <td>Put On</td>\n",
       "      <td>atl hip hop</td>\n",
       "      <td>70</td>\n",
       "      <td>2008</td>\n",
       "    </tr>\n",
       "    <tr>\n",
       "      <th>977</th>\n",
       "      <td>Kanye West</td>\n",
       "      <td>Put On</td>\n",
       "      <td>chicago rap</td>\n",
       "      <td>90</td>\n",
       "      <td>2008</td>\n",
       "    </tr>\n",
       "    <tr>\n",
       "      <th>978</th>\n",
       "      <td>Eric Prydz</td>\n",
       "      <td>Pjanoo - Radio Edit</td>\n",
       "      <td>disco house</td>\n",
       "      <td>63</td>\n",
       "      <td>2008</td>\n",
       "    </tr>\n",
       "  </tbody>\n",
       "</table>\n",
       "<p>979 rows × 5 columns</p>\n",
       "</div>"
      ],
      "text/plain": [
       "             Artist Name                      Track          Main Genre  \\\n",
       "0           Harry Styles                  As It Was                 pop   \n",
       "1          Glass Animals                 Heat Waves           gauze pop   \n",
       "2          The Kid LAROI  STAY (with Justin Bieber)  australian hip hop   \n",
       "3          Justin Bieber  STAY (with Justin Bieber)        canadian pop   \n",
       "4              Bad Bunny            Me Porto Bonito           reggaeton   \n",
       "..                   ...                        ...                 ...   \n",
       "974       Jonas Brothers                 Burnin' Up            boy band   \n",
       "975  Natasha Bedingfield      Pocketful of Sunshine           dance pop   \n",
       "976                Jeezy                     Put On         atl hip hop   \n",
       "977           Kanye West                     Put On         chicago rap   \n",
       "978           Eric Prydz        Pjanoo - Radio Edit         disco house   \n",
       "\n",
       "     Popularity  Year in Top 50  \n",
       "0            89            2021  \n",
       "1            78            2021  \n",
       "2            81            2021  \n",
       "3            90            2021  \n",
       "4            98            2021  \n",
       "..          ...             ...  \n",
       "974          75            2008  \n",
       "975          64            2008  \n",
       "976          70            2008  \n",
       "977          90            2008  \n",
       "978          63            2008  \n",
       "\n",
       "[979 rows x 5 columns]"
      ]
     },
     "execution_count": 2,
     "metadata": {},
     "output_type": "execute_result"
    }
   ],
   "source": [
    "overall_df = pd.read_csv('music.csv')\n",
    "overall_df.drop('Unnamed: 0', inplace=True, axis=1)\n",
    "overall_df"
   ]
  },
  {
   "cell_type": "code",
   "execution_count": 3,
   "id": "6fc82624",
   "metadata": {},
   "outputs": [
    {
     "data": {
      "text/html": [
       "<div>\n",
       "<style scoped>\n",
       "    .dataframe tbody tr th:only-of-type {\n",
       "        vertical-align: middle;\n",
       "    }\n",
       "\n",
       "    .dataframe tbody tr th {\n",
       "        vertical-align: top;\n",
       "    }\n",
       "\n",
       "    .dataframe thead th {\n",
       "        text-align: right;\n",
       "    }\n",
       "</style>\n",
       "<table border=\"1\" class=\"dataframe\">\n",
       "  <thead>\n",
       "    <tr style=\"text-align: right;\">\n",
       "      <th></th>\n",
       "      <th>Main Genre</th>\n",
       "      <th>0</th>\n",
       "    </tr>\n",
       "  </thead>\n",
       "  <tbody>\n",
       "    <tr>\n",
       "      <th>0</th>\n",
       "      <td>acid house</td>\n",
       "      <td>1</td>\n",
       "    </tr>\n",
       "    <tr>\n",
       "      <th>1</th>\n",
       "      <td>acoustic pop</td>\n",
       "      <td>3</td>\n",
       "    </tr>\n",
       "    <tr>\n",
       "      <th>2</th>\n",
       "      <td>adult standards</td>\n",
       "      <td>1</td>\n",
       "    </tr>\n",
       "    <tr>\n",
       "      <th>3</th>\n",
       "      <td>afro dancehall</td>\n",
       "      <td>2</td>\n",
       "    </tr>\n",
       "    <tr>\n",
       "      <th>4</th>\n",
       "      <td>afrofuturism</td>\n",
       "      <td>2</td>\n",
       "    </tr>\n",
       "    <tr>\n",
       "      <th>...</th>\n",
       "      <td>...</td>\n",
       "      <td>...</td>\n",
       "    </tr>\n",
       "    <tr>\n",
       "      <th>138</th>\n",
       "      <td>tropical house</td>\n",
       "      <td>1</td>\n",
       "    </tr>\n",
       "    <tr>\n",
       "      <th>139</th>\n",
       "      <td>uk funky</td>\n",
       "      <td>1</td>\n",
       "    </tr>\n",
       "    <tr>\n",
       "      <th>140</th>\n",
       "      <td>uk hip hop</td>\n",
       "      <td>1</td>\n",
       "    </tr>\n",
       "    <tr>\n",
       "      <th>141</th>\n",
       "      <td>uk pop</td>\n",
       "      <td>1</td>\n",
       "    </tr>\n",
       "    <tr>\n",
       "      <th>142</th>\n",
       "      <td>viral pop</td>\n",
       "      <td>1</td>\n",
       "    </tr>\n",
       "  </tbody>\n",
       "</table>\n",
       "<p>143 rows × 2 columns</p>\n",
       "</div>"
      ],
      "text/plain": [
       "          Main Genre  0\n",
       "0         acid house  1\n",
       "1       acoustic pop  3\n",
       "2    adult standards  1\n",
       "3     afro dancehall  2\n",
       "4       afrofuturism  2\n",
       "..               ... ..\n",
       "138   tropical house  1\n",
       "139         uk funky  1\n",
       "140       uk hip hop  1\n",
       "141           uk pop  1\n",
       "142        viral pop  1\n",
       "\n",
       "[143 rows x 2 columns]"
      ]
     },
     "execution_count": 3,
     "metadata": {},
     "output_type": "execute_result"
    }
   ],
   "source": [
    "new_df = overall_df.groupby(['Main Genre']).size().reset_index()\n",
    "# new_df = latin_df.groupby(['Track', 'Year in Top 50']).size().reset_index()\n",
    "# new_df = new_df.drop(columns=['Track']).groupby('Year in Top 50').size().reset_index()\n",
    "# new_df = new_df.rename(columns={0:\"Number of Latin Songs\", 'Year in Top 50': 'Top 50 Tracks of the Year' }).set_index('Top 50 Tracks of the Year')\n",
    "new_df"
   ]
  },
  {
   "cell_type": "code",
   "execution_count": null,
   "id": "e58ad090",
   "metadata": {},
   "outputs": [],
   "source": [
    "# overall_df.to_csv('music.csv')"
   ]
  },
  {
   "cell_type": "code",
   "execution_count": 4,
   "id": "f89458d2",
   "metadata": {},
   "outputs": [
    {
     "data": {
      "image/png": "[encoded data removed]",
      "text/plain": [
       "<Figure size 720x576 with 1 Axes>"
      ]
     },
     "metadata": {
      "needs_background": "light"
     },
     "output_type": "display_data"
    }
   ],
   "source": [
    "for i in range(2008,2022):\n",
    "    sub_df = overall_df[overall_df['Year in Top 50'] == i]\n",
    "    sub_df = sub_df.groupby(['Main Genre']).size()\n",
    "    sub_df = sub_df.sort_values(ascending=False)[:5]\n",
    "    plt.pause(0.5)\n",
    "    ax = sub_df.plot.bar(figsize=(10,8))\n",
    "    ax.set_title(\"Top 5 songs of \" + str(i))\n",
    "    plt.show()\n",
    "    clear_output(wait = True)"
   ]
  },
  {
   "cell_type": "code",
   "execution_count": 5,
   "id": "9946ccf4",
   "metadata": {},
   "outputs": [
    {
     "data": {
      "text/plain": [
       "<AxesSubplot:xlabel='Top 50 Tracks of the Year'>"
      ]
     },
     "execution_count": 5,
     "metadata": {},
     "output_type": "execute_result"
    },
    {
     "data": {
      "image/png": "[encoded data removed]",
      "text/plain": [
       "<Figure size 432x288 with 1 Axes>"
      ]
     },
     "metadata": {
      "needs_background": "light"
     },
     "output_type": "display_data"
    }
   ],
   "source": [
    "latin_genres = ['reggaeton', 'trap latino','puerto rican pop','colombian pop', 'cumbia',\n",
    "                'latin hip hop','reggaeton flow','reggaeton colombiano','latin pop', 'pop argentino']\n",
    "latin_df = overall_df[overall_df['Main Genre'].isin(latin_genres)]\n",
    "\n",
    "\n",
    "new_df = latin_df.groupby(['Track', 'Year in Top 50']).size().reset_index()\n",
    "new_df = new_df.drop(columns=['Track']).groupby('Year in Top 50').size().reset_index()\n",
    "new_df = new_df.rename(columns={0:\"Number of Latin Songs\", 'Year in Top 50': 'Top 50 Tracks of the Year' }).set_index('Top 50 Tracks of the Year')\n",
    "new_df.plot.bar()"
   ]
  },
  {
   "cell_type": "code",
   "execution_count": 13,
   "id": "23efe57e",
   "metadata": {},
   "outputs": [],
   "source": [
    "asia_genres = ['k-hop','K-indie','k-pop','Indian Pop','Indian Rock','Deep Indian Pop','C-pop','Chinese Indie Rock']\n",
    "\n",
    "asia_df = overall_df[overall_df['Main Genre'].isin(asia_genres)]\n",
    "\n",
    "new_df = asia_df.groupby(['Track', 'Year in Top 50']).size().reset_index()\n",
    "new_df = new_df.drop(columns=['Track']).groupby('Year in Top 50').size().reset_index()\n",
    "new_df = new_df.rename(columns={0:\"Number of Asian Songs\", 'Year in Top 50': 'Top 50 Tracks of the Year' }).set_index('Top 50 Tracks of the Year')\n",
    "# new_df.plot.bar()"
   ]
  },
  {
   "cell_type": "code",
   "execution_count": 14,
   "id": "3041063e",
   "metadata": {},
   "outputs": [],
   "source": [
    "euro_genres = ['classic eurovision', 'deep euro house', 'deep eurodance','eurobeat','eurodance',\n",
    "               'europop','eurovision','french hip hop', 'french shoegaze', 'uk hip hop','british soul',\n",
    "              'german pop','swedish pop', 'uk funky', 'uk pop']\n",
    "\n",
    "euro_df = overall_df[overall_df['Main Genre'].isin(euro_genres)]\n",
    "\n",
    "new_df = euro_df.groupby(['Track', 'Year in Top 50']).size().reset_index()\n",
    "new_df = new_df.drop(columns=['Track']).groupby('Year in Top 50').size().reset_index()\n",
    "new_df = new_df.rename(columns={0:\"Number of European Songs\", 'Year in Top 50': 'Top 50 Tracks of the Year' }).set_index('Top 50 Tracks of the Year')\n",
    "# new_df.plot.bar()"
   ]
  },
  {
   "cell_type": "code",
   "execution_count": 15,
   "id": "f3833131",
   "metadata": {},
   "outputs": [],
   "source": [
    "afro_genres = ['African Percussion', 'African Rock', 'Arikaans', 'Afrobeat', 'Afrobeats','afrofuturism',\n",
    "              'afro dancehall']\n",
    "\n",
    "afro_df = overall_df[overall_df['Main Genre'].isin(afro_genres)]\n",
    "\n",
    "new_df = afro_df.groupby(['Track', 'Year in Top 50']).size().reset_index()\n",
    "new_df = new_df.drop(columns=['Track']).groupby('Year in Top 50').size().reset_index()\n",
    "new_df = new_df.rename(columns={0:\"Number of Afro Songs\", 'Year in Top 50': 'Top 50 Tracks of the Year' }).set_index('Top 50 Tracks of the Year')\n",
    "# new_df.plot.bar()"
   ]
  },
  {
   "cell_type": "code",
   "execution_count": 16,
   "id": "9eae4f79",
   "metadata": {},
   "outputs": [],
   "source": [
    "update_df = overall_df.copy()\n",
    "\n",
    "update = overall_df['Main Genre'].isin(latin_genres)\n",
    "update_df.loc[update, 'Main Genre'] = 'latin'\n",
    "\n",
    "update = overall_df['Main Genre'].isin(asia_genres)\n",
    "update_df.loc[update, 'Main Genre'] = 'asian'\n",
    "\n",
    "update = overall_df['Main Genre'].isin(euro_genres)\n",
    "update_df.loc[update, 'Main Genre'] = 'euro'\n",
    "\n",
    "update = overall_df['Main Genre'].isin(afro_genres)\n",
    "update_df.loc[update, 'Main Genre'] = 'afro'\n",
    "\n",
    "# update_df"
   ]
  },
  {
   "cell_type": "code",
   "execution_count": 10,
   "id": "b65b7869",
   "metadata": {},
   "outputs": [
    {
     "data": {
      "image/png": "[encoded data removed]",
      "text/plain": [
       "<Figure size 720x720 with 1 Axes>"
      ]
     },
     "metadata": {},
     "output_type": "display_data"
    }
   ],
   "source": [
    "diff_genres = ['latin', 'asian', 'euro', 'afro']\n",
    "diff_df = update_df[update_df['Main Genre'].isin(diff_genres)]\n",
    "diff_df = diff_df.groupby(['Main Genre']).size()\n",
    "ax = diff_df.plot.pie(y='Main Genre', figsize = (10,10),autopct='%1.1f%%')\n",
    "ax.set_title('Pie Chart of Top Trending Music in US of Different Cultures From 2008-2021')\n",
    "ax.set_ylabel(\"\")\n",
    "plt.show()"
   ]
  },
  {
   "cell_type": "code",
   "execution_count": 17,
   "id": "f5b86c59",
   "metadata": {},
   "outputs": [],
   "source": [
    "cultures_df = update_df.copy()\n",
    "update = cultures_df['Main Genre'].isin(diff_genres)\n",
    "cultures_df.loc[update, 'Main Genre'] = 'Foreign'\n",
    "# cultures_df"
   ]
  },
  {
   "cell_type": "code",
   "execution_count": 12,
   "id": "6bf4d73d",
   "metadata": {},
   "outputs": [
    {
     "data": {
      "image/png": "[encoded data removed]",
      "text/plain": [
       "<Figure size 720x504 with 1 Axes>"
      ]
     },
     "metadata": {
      "needs_background": "light"
     },
     "output_type": "display_data"
    }
   ],
   "source": [
    "cultures_df = cultures_df[cultures_df['Main Genre'].isin(['Foreign'])]\n",
    "new_df = cultures_df.groupby(['Track', 'Year in Top 50']).size().reset_index()\n",
    "new_df = new_df.drop(columns=['Track']).groupby('Year in Top 50').size().reset_index()\n",
    "new_df = new_df.rename(columns={0:\"Number of Foriegn Songs\", 'Year in Top 50': 'Top 50 Tracks of the Year' }).set_index('Top 50 Tracks of the Year')\n",
    "ax = new_df.plot.line(marker='H', figsize=(10,7))\n",
    "ax.set_title('Number of Foreign Trakcs in the US Spotify Top 50 Trending From 2008-2021')\n",
    "ax.margins(y=.1, x=.1)\n",
    "plt.show()"
   ]
  },
  {
   "cell_type": "code",
   "execution_count": null,
   "id": "fc4776b3",
   "metadata": {},
   "outputs": [],
   "source": []
  }
 ],
 "metadata": {
  "kernelspec": {
   "display_name": "Python 3 (ipykernel)",
   "language": "python",
   "name": "python3"
  },
  "language_info": {
   "codemirror_mode": {
    "name": "ipython",
    "version": 3
   },
   "file_extension": ".py",
   "mimetype": "text/x-python",
   "name": "python",
   "nbconvert_exporter": "python",
   "pygments_lexer": "ipython3",
   "version": "3.8.8"
  }
 },
 "nbformat": 4,
 "nbformat_minor": 5
}
